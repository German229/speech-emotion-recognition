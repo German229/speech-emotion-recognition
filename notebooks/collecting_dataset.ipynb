{
 "cells": [
  {
   "cell_type": "code",
   "id": "initial_id",
   "metadata": {
    "collapsed": true,
    "ExecuteTime": {
     "end_time": "2025-07-15T15:54:29.949544Z",
     "start_time": "2025-07-15T15:54:29.931601Z"
    }
   },
   "source": [
    "import os\n",
    "import pandas as pd"
   ],
   "outputs": [],
   "execution_count": 15
  },
  {
   "metadata": {
    "ExecuteTime": {
     "end_time": "2025-07-15T15:54:29.965550Z",
     "start_time": "2025-07-15T15:54:29.952545Z"
    }
   },
   "cell_type": "code",
   "source": "DATASET_PATH = '../files'",
   "id": "40b748792372dbdb",
   "outputs": [],
   "execution_count": 16
  },
  {
   "metadata": {
    "ExecuteTime": {
     "end_time": "2025-07-15T15:54:29.996574Z",
     "start_time": "2025-07-15T15:54:29.982570Z"
    }
   },
   "cell_type": "code",
   "source": [
    "emotion_dict = {\n",
    "    '01': 'neutral',\n",
    "    '02': 'calm',\n",
    "    '03': 'happy',\n",
    "    '04': 'sad',\n",
    "    '05': 'angry',\n",
    "    '06': 'fearful',\n",
    "    '07': 'disgust',\n",
    "    '08': 'surprised'\n",
    "}"
   ],
   "id": "45e862b78cca9dfb",
   "outputs": [],
   "execution_count": 17
  },
  {
   "metadata": {
    "ExecuteTime": {
     "end_time": "2025-07-15T15:54:30.027824Z",
     "start_time": "2025-07-15T15:54:30.012821Z"
    }
   },
   "cell_type": "code",
   "source": [
    "data = []\n",
    "\n",
    "for actor_folder in os.listdir(DATASET_PATH):\n",
    "    actor_path = os.path.join(DATASET_PATH, actor_folder)\n",
    "    if os.path.isdir(actor_path):\n",
    "        for file_name in os.listdir(actor_path):\n",
    "            if file_name.endswith('.wav'):\n",
    "                parts = file_name.split('-')\n",
    "                emotion_code = parts[2]  # 2-я часть — эмоция (нумерация с нуля!)\n",
    "                emotion_label = emotion_dict.get(emotion_code, 'unknown')\n",
    "                file_path = os.path.join(actor_path, file_name)\n",
    "                data.append({'path': file_path, 'emotion': emotion_label})"
   ],
   "id": "aa6c61f7b2671d34",
   "outputs": [],
   "execution_count": 18
  },
  {
   "metadata": {
    "ExecuteTime": {
     "end_time": "2025-07-15T15:54:30.059849Z",
     "start_time": "2025-07-15T15:54:30.044828Z"
    }
   },
   "cell_type": "code",
   "source": [
    "df = pd.DataFrame(data)\n",
    "print(df.head())"
   ],
   "id": "2e75e447e2b0e0a2",
   "outputs": [
    {
     "name": "stdout",
     "output_type": "stream",
     "text": [
      "                                         path  emotion\n",
      "0  ../files\\Actor_01\\03-01-01-01-01-01-01.wav  neutral\n",
      "1  ../files\\Actor_01\\03-01-01-01-01-02-01.wav  neutral\n",
      "2  ../files\\Actor_01\\03-01-01-01-02-01-01.wav  neutral\n",
      "3  ../files\\Actor_01\\03-01-01-01-02-02-01.wav  neutral\n",
      "4  ../files\\Actor_01\\03-01-02-01-01-01-01.wav     calm\n"
     ]
    }
   ],
   "execution_count": 19
  },
  {
   "metadata": {
    "ExecuteTime": {
     "end_time": "2025-07-15T15:54:30.138346Z",
     "start_time": "2025-07-15T15:54:30.117342Z"
    }
   },
   "cell_type": "code",
   "source": "df.to_csv('../files/paths_labels_csv/ravdess_paths_and_labels.csv', index=False)",
   "id": "4e0dfac1779cef14",
   "outputs": [],
   "execution_count": 20
  }
 ],
 "metadata": {
  "kernelspec": {
   "display_name": "Python 3",
   "language": "python",
   "name": "python3"
  },
  "language_info": {
   "codemirror_mode": {
    "name": "ipython",
    "version": 2
   },
   "file_extension": ".py",
   "mimetype": "text/x-python",
   "name": "python",
   "nbconvert_exporter": "python",
   "pygments_lexer": "ipython2",
   "version": "2.7.6"
  }
 },
 "nbformat": 4,
 "nbformat_minor": 5
}
