{
 "cells": [
  {
   "metadata": {},
   "cell_type": "markdown",
   "source": [
    "<h3>Импорт библиотек</h3>\n",
    "<p>Загрузка всех необходимых библиотек для работы с аудио, построения модели и визуализации результатов.</p>\n",
    "<hr>"
   ],
   "id": "b86312cbfea85b0b"
  },
  {
   "metadata": {
    "collapsed": true,
    "ExecuteTime": {
     "end_time": "2025-07-15T17:35:31.418277Z",
     "start_time": "2025-07-15T17:35:31.403274Z"
    }
   },
   "cell_type": "code",
   "source": [
    "import librosa\n",
    "import os\n",
    "import random\n",
    "import keras\n",
    "import tensorflow as tf\n",
    "import numpy as np\n",
    "import matplotlib.pyplot as plt\n",
    "from tqdm import tqdm\n",
    "import pandas as pd\n",
    "from sklearn.model_selection import train_test_split\n",
    "from tensorflow.keras.utils import to_categorical\n",
    "from tensorflow.keras.models import Sequential\n",
    "from tensorflow.keras.layers import Conv2D, MaxPooling2D, Dropout, Flatten, Dense, BatchNormalization\n",
    "from sklearn.metrics import confusion_matrix, ConfusionMatrixDisplay\n",
    "from keras.callbacks import EarlyStopping, ModelCheckpoint\n",
    "from audiomentations import Compose, AddGaussianNoise, PitchShift, TimeStretch\n",
    "from sklearn.utils.class_weight import compute_class_weight"
   ],
   "id": "initial_id",
   "outputs": [],
   "execution_count": 417
  },
  {
   "metadata": {},
   "cell_type": "markdown",
   "source": [
    "<h3>Фиксация random seed</h3>\n",
    "<p>Устанавливаем значения random seed для всех библиотек, чтобы обеспечить воспроизводимость результатов эксперимента.</p>\n",
    "<hr>"
   ],
   "id": "635093bdb7955bc6"
  },
  {
   "metadata": {
    "ExecuteTime": {
     "end_time": "2025-07-15T17:35:31.434281Z",
     "start_time": "2025-07-15T17:35:31.421278Z"
    }
   },
   "cell_type": "code",
   "source": [
    "os.environ['PYTHONHASHSEED'] = str(42)\n",
    "os.environ['TF_DETERMINISTIC_OPS'] = '1'\n",
    "os.environ['TF_CUDNN_DETERMINISTIC'] = '1'\n",
    "random.seed(42)\n",
    "np.random.seed(42)\n",
    "tf.random.set_seed(42)"
   ],
   "id": "961b0a097e474cc1",
   "outputs": [],
   "execution_count": 418
  },
  {
   "metadata": {},
   "cell_type": "markdown",
   "source": [
    "<h3>Проверка наличия GPU</h3>\n",
    "<p>Определяем, есть ли в системе GPU, и выводим используемое устройство.</p>\n",
    "<hr>"
   ],
   "id": "12a229d41d7aa831"
  },
  {
   "metadata": {
    "ExecuteTime": {
     "end_time": "2025-07-15T17:35:31.465749Z",
     "start_time": "2025-07-15T17:35:31.451285Z"
    }
   },
   "cell_type": "code",
   "source": [
    "has_gpu = len(tf.config.list_physical_devices('GPU')) > 0\n",
    "device_name = '/GPU:0' if has_gpu else '/CPU:0'\n",
    "print(f\"Используется устройство: {device_name}\")"
   ],
   "id": "c4dd4c0dd5a02d80",
   "outputs": [
    {
     "name": "stdout",
     "output_type": "stream",
     "text": [
      "Используется устройство: /GPU:0\n"
     ]
    }
   ],
   "execution_count": 419
  },
  {
   "metadata": {},
   "cell_type": "markdown",
   "source": [
    "<h3>Загрузка датасета</h3>\n",
    "<p>Загрузка CSV-файла с путями к аудиофайлам и соответствующими метками эмоций.</p>\n",
    "<hr>"
   ],
   "id": "974d90c5613379c8"
  },
  {
   "metadata": {
    "ExecuteTime": {
     "end_time": "2025-07-15T17:35:31.496928Z",
     "start_time": "2025-07-15T17:35:31.482753Z"
    }
   },
   "cell_type": "code",
   "source": "df = pd.read_csv('../files/paths_labels_csv/ravdess_paths_and_labels.csv', sep=',')",
   "id": "1bd74a6ed9c78932",
   "outputs": [],
   "execution_count": 420
  },
  {
   "metadata": {},
   "cell_type": "markdown",
   "source": [
    "<h3>Глобальные параметры аудио</h3>\n",
    "<p>Задаём параметры: частоту дискретизации, длительность аудиофрагмента и число коэффициентов MFCC.</p>\n",
    "<hr>"
   ],
   "id": "3aac8c309ebef19c"
  },
  {
   "metadata": {
    "ExecuteTime": {
     "end_time": "2025-07-15T17:35:31.528936Z",
     "start_time": "2025-07-15T17:35:31.513932Z"
    }
   },
   "cell_type": "code",
   "source": [
    "SAMPLE_RATE = 22050\n",
    "DURATION = 3\n",
    "N_MELS = 128\n",
    "SAMPLES_PER_TRACK = SAMPLE_RATE * DURATION"
   ],
   "id": "dfe8ddae34296a9c",
   "outputs": [],
   "execution_count": 421
  },
  {
   "metadata": {},
   "cell_type": "markdown",
   "source": [
    "<h3>Аугментации аудио</h3>\n",
    "<p>Создаём пайплайн аугментаций для обучающих аудиофайлов: добавление шума, pitch shift и time stretch.</p>\n",
    "<hr>"
   ],
   "id": "f7b7816d03d6698f"
  },
  {
   "metadata": {
    "ExecuteTime": {
     "end_time": "2025-07-15T17:35:31.560929Z",
     "start_time": "2025-07-15T17:35:31.545940Z"
    }
   },
   "cell_type": "code",
   "source": [
    "augmenter = Compose([\n",
    "    AddGaussianNoise(min_amplitude=0.001, max_amplitude=0.01, p=0.6),\n",
    "    PitchShift(min_semitones=-2, max_semitones=2, p=0.5),\n",
    "    TimeStretch(min_rate=0.9, max_rate=1.1, p=0.4)\n",
    "])"
   ],
   "id": "44801e09e78fec85",
   "outputs": [],
   "execution_count": 422
  },
  {
   "metadata": {},
   "cell_type": "markdown",
   "source": [
    "<h3>Функция препроцессинга аудио</h3>\n",
    "<p>Функция загружает аудиофайл, применяет аугментацию (при необходимости), вычисляет MFCC и нормализует результат.</p>\n",
    "<hr>"
   ],
   "id": "f2e5c6ac483615b4"
  },
  {
   "metadata": {
    "ExecuteTime": {
     "end_time": "2025-07-15T17:35:31.592929Z",
     "start_time": "2025-07-15T17:35:31.577933Z"
    }
   },
   "cell_type": "code",
   "source": [
    "def preprocess_audio(file_path, augment=False):\n",
    "    y, sr = librosa.load(file_path, sr=SAMPLE_RATE, duration=DURATION, mono=True)\n",
    "    if len(y) < SAMPLES_PER_TRACK:\n",
    "        pad_width = SAMPLES_PER_TRACK - len(y)\n",
    "        y = np.pad(y, (0, pad_width))\n",
    "    else:\n",
    "        y = y[:SAMPLES_PER_TRACK]\n",
    "\n",
    "    if augment:\n",
    "        y = augmenter(samples=y, sample_rate=sr)\n",
    "\n",
    "    mfcc = librosa.feature.mfcc(y=y, sr=sr, n_mfcc=40)\n",
    "    mfcc = (mfcc - np.mean(mfcc)) / (np.std(mfcc) + 1e-6)\n",
    "    return mfcc"
   ],
   "id": "ab467c34427f106f",
   "outputs": [],
   "execution_count": 423
  },
  {
   "metadata": {},
   "cell_type": "markdown",
   "source": [
    "<h3>Преобразование аудио в MFCC и формирование датасета</h3>\n",
    "<p>Обрабатываем все аудиофайлы: вычисляем MFCC для каждого и создаём массивы признаков и меток.</p>\n",
    "<hr>"
   ],
   "id": "ea5756aff9be7302"
  },
  {
   "metadata": {
    "ExecuteTime": {
     "end_time": "2025-07-15T17:35:39.931666Z",
     "start_time": "2025-07-15T17:35:31.625987Z"
    }
   },
   "cell_type": "code",
   "source": [
    "X = []\n",
    "y = []\n",
    "\n",
    "label_to_idx = {label: idx for idx, label in enumerate(sorted(df['emotion'].unique()))}\n",
    "\n",
    "for idx, row in tqdm(df.iterrows(), total=len(df)):\n",
    "    mel_spec = preprocess_audio(row['path'])\n",
    "    X.append(mel_spec)\n",
    "    y.append(label_to_idx[row['emotion']])\n",
    "\n",
    "X = np.array(X)\n",
    "y = np.array(y)\n",
    "print(\"X shape:\", X.shape)\n",
    "print(\"y shape:\", y.shape)"
   ],
   "id": "577650c89f09fb1b",
   "outputs": [
    {
     "name": "stderr",
     "output_type": "stream",
     "text": [
      "100%|██████████| 1440/1440 [00:08<00:00, 173.75it/s]"
     ]
    },
    {
     "name": "stdout",
     "output_type": "stream",
     "text": [
      "X shape: (1440, 40, 130)\n",
      "y shape: (1440,)\n"
     ]
    },
    {
     "name": "stderr",
     "output_type": "stream",
     "text": [
      "\n"
     ]
    }
   ],
   "execution_count": 424
  },
  {
   "metadata": {},
   "cell_type": "markdown",
   "source": [
    "<h3>Визуализация MFCC-спектрограммы</h3>\n",
    "<p>Строим изображение MFCC для первого примера — это важно для контроля качества препроцессинга.</p>\n",
    "<hr>"
   ],
   "id": "70300dafe496640b"
  },
  {
   "metadata": {
    "ExecuteTime": {
     "end_time": "2025-07-15T17:35:40.073502Z",
     "start_time": "2025-07-15T17:35:39.948669Z"
    }
   },
   "cell_type": "code",
   "source": [
    "plt.figure(figsize=(10, 4))\n",
    "librosa.display.specshow(X[0].squeeze(), sr=SAMPLE_RATE, x_axis='time', y_axis='mel')\n",
    "plt.title(f'Emotion: {df[\"emotion\"].iloc[0]}')\n",
    "plt.colorbar(format='%+2.0f dB')\n",
    "plt.tight_layout()\n",
    "plt.show()"
   ],
   "id": "fcf8137117abb564",
   "outputs": [
    {
     "data": {
      "text/plain": [
       "<Figure size 1000x400 with 2 Axes>"
      ],
      "image/png": "[encoded data removed]"
     },
     "metadata": {},
     "output_type": "display_data"
    }
   ],
   "execution_count": 425
  },
  {
   "metadata": {},
   "cell_type": "markdown",
   "source": [
    "<h3>Изменение формы массива X</h3>\n",
    "<p>Добавляем размерность для канала (channel) для совместимости с Conv2D-слоями Keras.</p>\n",
    "<hr>"
   ],
   "id": "4f378d74afa5eecf"
  },
  {
   "metadata": {
    "ExecuteTime": {
     "end_time": "2025-07-15T17:35:40.104540Z",
     "start_time": "2025-07-15T17:35:40.090505Z"
    }
   },
   "cell_type": "code",
   "source": [
    "X = X[..., np.newaxis]\n",
    "print(\"X shape:\", X.shape)"
   ],
   "id": "a12fea86a986afaa",
   "outputs": [
    {
     "name": "stdout",
     "output_type": "stream",
     "text": [
      "X shape: (1440, 40, 130, 1)\n"
     ]
    }
   ],
   "execution_count": 426
  },
  {
   "metadata": {},
   "cell_type": "markdown",
   "source": [
    "<h3>Разделение на обучающую и тестовую выборки</h3>\n",
    "<p>Делим данные на train/test в соотношении 80/20 с учётом баланса классов.</p>\n",
    "<hr>"
   ],
   "id": "b2ea43ab9330af8c"
  },
  {
   "metadata": {
    "ExecuteTime": {
     "end_time": "2025-07-15T17:35:40.136055Z",
     "start_time": "2025-07-15T17:35:40.121050Z"
    }
   },
   "cell_type": "code",
   "source": "X_train, X_test, y_train, y_test = train_test_split(X, y, random_state=42, test_size=0.2, stratify=y)",
   "id": "e5746fc8deaada41",
   "outputs": [],
   "execution_count": 427
  },
  {
   "metadata": {},
   "cell_type": "markdown",
   "source": [
    "<h3>One-hot encoding меток</h3>\n",
    "<p>Преобразуем числовые метки в one-hot вектор для многоклассовой классификации.</p>\n",
    "<hr>"
   ],
   "id": "a471cfb52c62dfbf"
  },
  {
   "metadata": {
    "ExecuteTime": {
     "end_time": "2025-07-15T17:35:40.167223Z",
     "start_time": "2025-07-15T17:35:40.152970Z"
    }
   },
   "cell_type": "code",
   "source": "num_classes = len(np.unique(y))",
   "id": "1344ccb898be0e40",
   "outputs": [],
   "execution_count": 428
  },
  {
   "metadata": {
    "ExecuteTime": {
     "end_time": "2025-07-15T17:35:40.198424Z",
     "start_time": "2025-07-15T17:35:40.183774Z"
    }
   },
   "cell_type": "code",
   "source": [
    "y_train_cat = to_categorical(y_train, num_classes)\n",
    "y_test_cat = to_categorical(y_test, num_classes)"
   ],
   "id": "f886741a58f6d776",
   "outputs": [],
   "execution_count": 429
  },
  {
   "metadata": {},
   "cell_type": "markdown",
   "source": [
    "<h3>Финальная архитектура модели</h3>\n",
    "<p>Определяем итоговую модель с несколькими сверточными и полносвязными слоями.</p>\n",
    "<hr>"
   ],
   "id": "ea7a15904b93a638"
  },
  {
   "metadata": {
    "ExecuteTime": {
     "end_time": "2025-07-15T17:35:40.294447Z",
     "start_time": "2025-07-15T17:35:40.215428Z"
    }
   },
   "cell_type": "code",
   "source": [
    "model = Sequential([\n",
    "    Conv2D(32, (3, 3), activation='relu', input_shape=X_train.shape[1:]),\n",
    "    BatchNormalization(),\n",
    "    MaxPooling2D((2, 2)),\n",
    "    Dropout(0.2),\n",
    "\n",
    "    Conv2D(64, (3, 3), activation='relu'),\n",
    "    BatchNormalization(),\n",
    "    MaxPooling2D((2, 2)),\n",
    "    Dropout(0.2),\n",
    "\n",
    "    Conv2D(128, (3, 3), activation='relu'),\n",
    "    BatchNormalization(),\n",
    "    MaxPooling2D((2, 2)),\n",
    "    Dropout(0.2),\n",
    "\n",
    "    Flatten(),\n",
    "    Dense(128, activation='relu'),\n",
    "    Dropout(0.3),\n",
    "    Dense(num_classes, activation='softmax')\n",
    "])"
   ],
   "id": "c3978d267b4caa0",
   "outputs": [],
   "execution_count": 430
  },
  {
   "metadata": {},
   "cell_type": "markdown",
   "source": [
    "<h3>Callbacks для обучения</h3>\n",
    "<p>Настраиваем EarlyStopping и ModelCheckpoint для предотвращения переобучения и сохранения лучших весов.</p>\n",
    "<hr>"
   ],
   "id": "af234e36e74cadbe"
  },
  {
   "metadata": {
    "ExecuteTime": {
     "end_time": "2025-07-15T17:35:40.324941Z",
     "start_time": "2025-07-15T17:35:40.310451Z"
    }
   },
   "cell_type": "code",
   "source": [
    "early_stop = EarlyStopping(\n",
    "    monitor='val_loss',\n",
    "    patience=15,\n",
    "    restore_best_weights=True,\n",
    "    verbose=1\n",
    ")\n",
    "\n",
    "model_ckpt = ModelCheckpoint(\n",
    "    'best_model.keras',\n",
    "    monitor='val_accuracy',\n",
    "    save_best_only=True,\n",
    "    verbose=1\n",
    ")\n",
    "\n",
    "\n",
    "callbacks = []"
   ],
   "id": "3d98f002c6b9d646",
   "outputs": [],
   "execution_count": 431
  },
  {
   "metadata": {},
   "cell_type": "markdown",
   "source": [
    "<h3>Взвешивание классов</h3>\n",
    "<p>Рассчитываем веса для классов, чтобы учесть их дисбаланс при обучении модели.</p>\n",
    "<hr>"
   ],
   "id": "37ccd579048848b0"
  },
  {
   "metadata": {
    "ExecuteTime": {
     "end_time": "2025-07-15T17:35:40.356948Z",
     "start_time": "2025-07-15T17:35:40.341945Z"
    }
   },
   "cell_type": "code",
   "source": [
    "class_weights = compute_class_weight(\n",
    "    class_weight='balanced',\n",
    "    classes=np.unique(y_train),\n",
    "    y=y_train\n",
    ")\n",
    "\n",
    "class_weights_dict = dict(enumerate(class_weights))\n",
    "print(class_weights_dict)"
   ],
   "id": "e0a540b7859b0a4",
   "outputs": [
    {
     "name": "stdout",
     "output_type": "stream",
     "text": [
      "{0: 0.935064935064935, 1: 0.935064935064935, 2: 0.935064935064935, 3: 0.9411764705882353, 4: 0.9411764705882353, 5: 1.87012987012987, 6: 0.935064935064935, 7: 0.9411764705882353}\n"
     ]
    }
   ],
   "execution_count": 432
  },
  {
   "metadata": {},
   "cell_type": "markdown",
   "source": [
    "<h3>Компиляция и обучение модели</h3>\n",
    "<p>Компилируем модель и запускаем процесс обучения с использованием аугментаций, весов классов и callbacks.</p>\n",
    "<hr>"
   ],
   "id": "53389d9845d63be9"
  },
  {
   "metadata": {
    "ExecuteTime": {
     "end_time": "2025-07-15T17:36:14.203129Z",
     "start_time": "2025-07-15T17:35:40.373951Z"
    }
   },
   "cell_type": "code",
   "source": [
    "with tf.device(device_name):\n",
    "    model.compile(\n",
    "        optimizer=keras.optimizers.Adam(learning_rate=0.0007),\n",
    "        loss=keras.losses.CategoricalCrossentropy(label_smoothing=0.1),\n",
    "        metrics=['accuracy', 'categorical_accuracy']\n",
    "    )\n",
    "\n",
    "    history = model.fit(\n",
    "        X_train, y_train_cat,\n",
    "        validation_data=(X_test, y_test_cat),\n",
    "        epochs=100,\n",
    "        batch_size=32,\n",
    "        # callbacks=callbacks,\n",
    "        class_weight=class_weights_dict\n",
    "    )"
   ],
   "id": "1cf44a4053c36dde",
   "outputs": [
    {
     "name": "stdout",
     "output_type": "stream",
     "text": [
      "Epoch 1/100\n",
      "36/36 [==============================] - 1s 19ms/step - loss: 2.5202 - accuracy: 0.2049 - categorical_accuracy: 0.2049 - val_loss: 2.7992 - val_accuracy: 0.1319 - val_categorical_accuracy: 0.1319\n",
      "Epoch 2/100\n",
      "36/36 [==============================] - 0s 9ms/step - loss: 1.9315 - accuracy: 0.2665 - categorical_accuracy: 0.2665 - val_loss: 4.3899 - val_accuracy: 0.1319 - val_categorical_accuracy: 0.1319\n",
      "Epoch 3/100\n",
      "36/36 [==============================] - 0s 9ms/step - loss: 1.8704 - accuracy: 0.2986 - categorical_accuracy: 0.2986 - val_loss: 5.5238 - val_accuracy: 0.1319 - val_categorical_accuracy: 0.1319\n",
      "Epoch 4/100\n",
      "36/36 [==============================] - 0s 9ms/step - loss: 1.8422 - accuracy: 0.3142 - categorical_accuracy: 0.3142 - val_loss: 5.5449 - val_accuracy: 0.1319 - val_categorical_accuracy: 0.1319\n",
      "Epoch 5/100\n",
      "36/36 [==============================] - 0s 9ms/step - loss: 1.7989 - accuracy: 0.3212 - categorical_accuracy: 0.3212 - val_loss: 5.7422 - val_accuracy: 0.1319 - val_categorical_accuracy: 0.1319\n",
      "Epoch 6/100\n",
      "36/36 [==============================] - 0s 9ms/step - loss: 1.7361 - accuracy: 0.3533 - categorical_accuracy: 0.3533 - val_loss: 5.3843 - val_accuracy: 0.1354 - val_categorical_accuracy: 0.1354\n",
      "Epoch 7/100\n",
      "36/36 [==============================] - 0s 9ms/step - loss: 1.7312 - accuracy: 0.3611 - categorical_accuracy: 0.3611 - val_loss: 5.1462 - val_accuracy: 0.0694 - val_categorical_accuracy: 0.0694\n",
      "Epoch 8/100\n",
      "36/36 [==============================] - 0s 9ms/step - loss: 1.7325 - accuracy: 0.3698 - categorical_accuracy: 0.3698 - val_loss: 4.3129 - val_accuracy: 0.0660 - val_categorical_accuracy: 0.0660\n",
      "Epoch 9/100\n",
      "36/36 [==============================] - 0s 9ms/step - loss: 1.6571 - accuracy: 0.3984 - categorical_accuracy: 0.3984 - val_loss: 3.5488 - val_accuracy: 0.0660 - val_categorical_accuracy: 0.0660\n",
      "Epoch 10/100\n",
      "36/36 [==============================] - 0s 9ms/step - loss: 1.6345 - accuracy: 0.4045 - categorical_accuracy: 0.4045 - val_loss: 2.7936 - val_accuracy: 0.0938 - val_categorical_accuracy: 0.0938\n",
      "Epoch 11/100\n",
      "36/36 [==============================] - 0s 9ms/step - loss: 1.5665 - accuracy: 0.4392 - categorical_accuracy: 0.4392 - val_loss: 2.4947 - val_accuracy: 0.1528 - val_categorical_accuracy: 0.1528\n",
      "Epoch 12/100\n",
      "36/36 [==============================] - 0s 9ms/step - loss: 1.5352 - accuracy: 0.4757 - categorical_accuracy: 0.4757 - val_loss: 2.1217 - val_accuracy: 0.2118 - val_categorical_accuracy: 0.2118\n",
      "Epoch 13/100\n",
      "36/36 [==============================] - 0s 9ms/step - loss: 1.4974 - accuracy: 0.4957 - categorical_accuracy: 0.4957 - val_loss: 1.8939 - val_accuracy: 0.3194 - val_categorical_accuracy: 0.3194\n",
      "Epoch 14/100\n",
      "36/36 [==============================] - 0s 9ms/step - loss: 1.4750 - accuracy: 0.5035 - categorical_accuracy: 0.5035 - val_loss: 1.8803 - val_accuracy: 0.2847 - val_categorical_accuracy: 0.2847\n",
      "Epoch 15/100\n",
      "36/36 [==============================] - 0s 9ms/step - loss: 1.4227 - accuracy: 0.5312 - categorical_accuracy: 0.5312 - val_loss: 1.7867 - val_accuracy: 0.3715 - val_categorical_accuracy: 0.3715\n",
      "Epoch 16/100\n",
      "36/36 [==============================] - 0s 9ms/step - loss: 1.3967 - accuracy: 0.5469 - categorical_accuracy: 0.5469 - val_loss: 1.6263 - val_accuracy: 0.4653 - val_categorical_accuracy: 0.4653\n",
      "Epoch 17/100\n",
      "36/36 [==============================] - 0s 9ms/step - loss: 1.3755 - accuracy: 0.5634 - categorical_accuracy: 0.5634 - val_loss: 1.6244 - val_accuracy: 0.4514 - val_categorical_accuracy: 0.4514\n",
      "Epoch 18/100\n",
      "36/36 [==============================] - 0s 9ms/step - loss: 1.3334 - accuracy: 0.5868 - categorical_accuracy: 0.5868 - val_loss: 1.5365 - val_accuracy: 0.5208 - val_categorical_accuracy: 0.5208\n",
      "Epoch 19/100\n",
      "36/36 [==============================] - 0s 9ms/step - loss: 1.3227 - accuracy: 0.5816 - categorical_accuracy: 0.5816 - val_loss: 1.6335 - val_accuracy: 0.4792 - val_categorical_accuracy: 0.4792\n",
      "Epoch 20/100\n",
      "36/36 [==============================] - 0s 9ms/step - loss: 1.3003 - accuracy: 0.6059 - categorical_accuracy: 0.6059 - val_loss: 1.4923 - val_accuracy: 0.5486 - val_categorical_accuracy: 0.5486\n",
      "Epoch 21/100\n",
      "36/36 [==============================] - 0s 9ms/step - loss: 1.2684 - accuracy: 0.6050 - categorical_accuracy: 0.6050 - val_loss: 1.4635 - val_accuracy: 0.5729 - val_categorical_accuracy: 0.5729\n",
      "Epoch 22/100\n",
      "36/36 [==============================] - 0s 9ms/step - loss: 1.2141 - accuracy: 0.6467 - categorical_accuracy: 0.6467 - val_loss: 1.5038 - val_accuracy: 0.5347 - val_categorical_accuracy: 0.5347\n",
      "Epoch 23/100\n",
      "36/36 [==============================] - 0s 9ms/step - loss: 1.2074 - accuracy: 0.6580 - categorical_accuracy: 0.6580 - val_loss: 1.4581 - val_accuracy: 0.5799 - val_categorical_accuracy: 0.5799\n",
      "Epoch 24/100\n",
      "36/36 [==============================] - 0s 10ms/step - loss: 1.1686 - accuracy: 0.6901 - categorical_accuracy: 0.6901 - val_loss: 1.5761 - val_accuracy: 0.5035 - val_categorical_accuracy: 0.5035\n",
      "Epoch 25/100\n",
      "36/36 [==============================] - 0s 9ms/step - loss: 1.1276 - accuracy: 0.6970 - categorical_accuracy: 0.6970 - val_loss: 1.4298 - val_accuracy: 0.5868 - val_categorical_accuracy: 0.5868\n",
      "Epoch 26/100\n",
      "36/36 [==============================] - 0s 9ms/step - loss: 1.1328 - accuracy: 0.6936 - categorical_accuracy: 0.6936 - val_loss: 1.3637 - val_accuracy: 0.5972 - val_categorical_accuracy: 0.5972\n",
      "Epoch 27/100\n",
      "36/36 [==============================] - 0s 9ms/step - loss: 1.0910 - accuracy: 0.7222 - categorical_accuracy: 0.7222 - val_loss: 1.4603 - val_accuracy: 0.5729 - val_categorical_accuracy: 0.5729\n",
      "Epoch 28/100\n",
      "36/36 [==============================] - 0s 9ms/step - loss: 1.0445 - accuracy: 0.7405 - categorical_accuracy: 0.7405 - val_loss: 1.5331 - val_accuracy: 0.5278 - val_categorical_accuracy: 0.5278\n",
      "Epoch 29/100\n",
      "36/36 [==============================] - 0s 9ms/step - loss: 1.0620 - accuracy: 0.7552 - categorical_accuracy: 0.7552 - val_loss: 1.3835 - val_accuracy: 0.6042 - val_categorical_accuracy: 0.6042\n",
      "Epoch 30/100\n",
      "36/36 [==============================] - 0s 9ms/step - loss: 1.0309 - accuracy: 0.7691 - categorical_accuracy: 0.7691 - val_loss: 1.4658 - val_accuracy: 0.5590 - val_categorical_accuracy: 0.5590\n",
      "Epoch 31/100\n",
      "36/36 [==============================] - 0s 9ms/step - loss: 0.9949 - accuracy: 0.7865 - categorical_accuracy: 0.7865 - val_loss: 1.3862 - val_accuracy: 0.6007 - val_categorical_accuracy: 0.6007\n",
      "Epoch 32/100\n",
      "36/36 [==============================] - 0s 9ms/step - loss: 0.9766 - accuracy: 0.8047 - categorical_accuracy: 0.8047 - val_loss: 1.5729 - val_accuracy: 0.5243 - val_categorical_accuracy: 0.5243\n",
      "Epoch 33/100\n",
      "36/36 [==============================] - 0s 9ms/step - loss: 0.9497 - accuracy: 0.8108 - categorical_accuracy: 0.8108 - val_loss: 1.3465 - val_accuracy: 0.6458 - val_categorical_accuracy: 0.6458\n",
      "Epoch 34/100\n",
      "36/36 [==============================] - 0s 9ms/step - loss: 0.9460 - accuracy: 0.8090 - categorical_accuracy: 0.8090 - val_loss: 1.3221 - val_accuracy: 0.6076 - val_categorical_accuracy: 0.6076\n",
      "Epoch 35/100\n",
      "36/36 [==============================] - 0s 9ms/step - loss: 0.9202 - accuracy: 0.8325 - categorical_accuracy: 0.8325 - val_loss: 1.2696 - val_accuracy: 0.6667 - val_categorical_accuracy: 0.6667\n",
      "Epoch 36/100\n",
      "36/36 [==============================] - 0s 9ms/step - loss: 0.9480 - accuracy: 0.8073 - categorical_accuracy: 0.8073 - val_loss: 1.4002 - val_accuracy: 0.5799 - val_categorical_accuracy: 0.5799\n",
      "Epoch 37/100\n",
      "36/36 [==============================] - 0s 9ms/step - loss: 0.9010 - accuracy: 0.8203 - categorical_accuracy: 0.8203 - val_loss: 1.2782 - val_accuracy: 0.6667 - val_categorical_accuracy: 0.6667\n",
      "Epoch 38/100\n",
      "36/36 [==============================] - 0s 9ms/step - loss: 0.9104 - accuracy: 0.8290 - categorical_accuracy: 0.8290 - val_loss: 1.2286 - val_accuracy: 0.6806 - val_categorical_accuracy: 0.6806\n",
      "Epoch 39/100\n",
      "36/36 [==============================] - 0s 9ms/step - loss: 0.8905 - accuracy: 0.8420 - categorical_accuracy: 0.8420 - val_loss: 1.3006 - val_accuracy: 0.6181 - val_categorical_accuracy: 0.6181\n",
      "Epoch 40/100\n",
      "36/36 [==============================] - 0s 9ms/step - loss: 0.8637 - accuracy: 0.8637 - categorical_accuracy: 0.8637 - val_loss: 1.3645 - val_accuracy: 0.6424 - val_categorical_accuracy: 0.6424\n",
      "Epoch 41/100\n",
      "36/36 [==============================] - 0s 9ms/step - loss: 0.8216 - accuracy: 0.8872 - categorical_accuracy: 0.8872 - val_loss: 1.2453 - val_accuracy: 0.6701 - val_categorical_accuracy: 0.6701\n",
      "Epoch 42/100\n",
      "36/36 [==============================] - 0s 9ms/step - loss: 0.8227 - accuracy: 0.8837 - categorical_accuracy: 0.8837 - val_loss: 1.2861 - val_accuracy: 0.6562 - val_categorical_accuracy: 0.6562\n",
      "Epoch 43/100\n",
      "36/36 [==============================] - 0s 9ms/step - loss: 0.8317 - accuracy: 0.8759 - categorical_accuracy: 0.8759 - val_loss: 1.2417 - val_accuracy: 0.6840 - val_categorical_accuracy: 0.6840\n",
      "Epoch 44/100\n",
      "36/36 [==============================] - 0s 9ms/step - loss: 0.7914 - accuracy: 0.8915 - categorical_accuracy: 0.8915 - val_loss: 1.2421 - val_accuracy: 0.6806 - val_categorical_accuracy: 0.6806\n",
      "Epoch 45/100\n",
      "36/36 [==============================] - 0s 9ms/step - loss: 0.8224 - accuracy: 0.8793 - categorical_accuracy: 0.8793 - val_loss: 1.2394 - val_accuracy: 0.6562 - val_categorical_accuracy: 0.6562\n",
      "Epoch 46/100\n",
      "36/36 [==============================] - 0s 9ms/step - loss: 0.7832 - accuracy: 0.9054 - categorical_accuracy: 0.9054 - val_loss: 1.2436 - val_accuracy: 0.6667 - val_categorical_accuracy: 0.6667\n",
      "Epoch 47/100\n",
      "36/36 [==============================] - 0s 9ms/step - loss: 0.8032 - accuracy: 0.8932 - categorical_accuracy: 0.8932 - val_loss: 1.2455 - val_accuracy: 0.6910 - val_categorical_accuracy: 0.6910\n",
      "Epoch 48/100\n",
      "36/36 [==============================] - 0s 9ms/step - loss: 0.7781 - accuracy: 0.9141 - categorical_accuracy: 0.9141 - val_loss: 1.3047 - val_accuracy: 0.6424 - val_categorical_accuracy: 0.6424\n",
      "Epoch 49/100\n",
      "36/36 [==============================] - 0s 9ms/step - loss: 0.7733 - accuracy: 0.9054 - categorical_accuracy: 0.9054 - val_loss: 1.2939 - val_accuracy: 0.6493 - val_categorical_accuracy: 0.6493\n",
      "Epoch 50/100\n",
      "36/36 [==============================] - 0s 9ms/step - loss: 0.7915 - accuracy: 0.9002 - categorical_accuracy: 0.9002 - val_loss: 1.2303 - val_accuracy: 0.7014 - val_categorical_accuracy: 0.7014\n",
      "Epoch 51/100\n",
      "36/36 [==============================] - 0s 9ms/step - loss: 0.7655 - accuracy: 0.9175 - categorical_accuracy: 0.9175 - val_loss: 1.2191 - val_accuracy: 0.6736 - val_categorical_accuracy: 0.6736\n",
      "Epoch 52/100\n",
      "36/36 [==============================] - 0s 9ms/step - loss: 0.7701 - accuracy: 0.9097 - categorical_accuracy: 0.9097 - val_loss: 1.2748 - val_accuracy: 0.6840 - val_categorical_accuracy: 0.6840\n",
      "Epoch 53/100\n",
      "36/36 [==============================] - 0s 9ms/step - loss: 0.7666 - accuracy: 0.8976 - categorical_accuracy: 0.8976 - val_loss: 1.3286 - val_accuracy: 0.6215 - val_categorical_accuracy: 0.6215\n",
      "Epoch 54/100\n",
      "36/36 [==============================] - 0s 9ms/step - loss: 0.7789 - accuracy: 0.8941 - categorical_accuracy: 0.8941 - val_loss: 1.2049 - val_accuracy: 0.7049 - val_categorical_accuracy: 0.7049\n",
      "Epoch 55/100\n",
      "36/36 [==============================] - 0s 9ms/step - loss: 0.7609 - accuracy: 0.9167 - categorical_accuracy: 0.9167 - val_loss: 1.2820 - val_accuracy: 0.6597 - val_categorical_accuracy: 0.6597\n",
      "Epoch 56/100\n",
      "36/36 [==============================] - 0s 9ms/step - loss: 0.7530 - accuracy: 0.9193 - categorical_accuracy: 0.9193 - val_loss: 1.2936 - val_accuracy: 0.6528 - val_categorical_accuracy: 0.6528\n",
      "Epoch 57/100\n",
      "36/36 [==============================] - 0s 9ms/step - loss: 0.7396 - accuracy: 0.9297 - categorical_accuracy: 0.9297 - val_loss: 1.2326 - val_accuracy: 0.6840 - val_categorical_accuracy: 0.6840\n",
      "Epoch 58/100\n",
      "36/36 [==============================] - 0s 9ms/step - loss: 0.7429 - accuracy: 0.9271 - categorical_accuracy: 0.9271 - val_loss: 1.2974 - val_accuracy: 0.6597 - val_categorical_accuracy: 0.6597\n",
      "Epoch 59/100\n",
      "36/36 [==============================] - 0s 9ms/step - loss: 0.7251 - accuracy: 0.9349 - categorical_accuracy: 0.9349 - val_loss: 1.2106 - val_accuracy: 0.6875 - val_categorical_accuracy: 0.6875\n",
      "Epoch 60/100\n",
      "36/36 [==============================] - 0s 9ms/step - loss: 0.7405 - accuracy: 0.9245 - categorical_accuracy: 0.9245 - val_loss: 1.2134 - val_accuracy: 0.6840 - val_categorical_accuracy: 0.6840\n",
      "Epoch 61/100\n",
      "36/36 [==============================] - 0s 9ms/step - loss: 0.7127 - accuracy: 0.9470 - categorical_accuracy: 0.9470 - val_loss: 1.1788 - val_accuracy: 0.7014 - val_categorical_accuracy: 0.7014\n",
      "Epoch 62/100\n",
      "36/36 [==============================] - 0s 9ms/step - loss: 0.7228 - accuracy: 0.9262 - categorical_accuracy: 0.9262 - val_loss: 1.2173 - val_accuracy: 0.6840 - val_categorical_accuracy: 0.6840\n",
      "Epoch 63/100\n",
      "36/36 [==============================] - 0s 9ms/step - loss: 0.7029 - accuracy: 0.9401 - categorical_accuracy: 0.9401 - val_loss: 1.2719 - val_accuracy: 0.6667 - val_categorical_accuracy: 0.6667\n",
      "Epoch 64/100\n",
      "36/36 [==============================] - 0s 9ms/step - loss: 0.7088 - accuracy: 0.9436 - categorical_accuracy: 0.9436 - val_loss: 1.2236 - val_accuracy: 0.6771 - val_categorical_accuracy: 0.6771\n",
      "Epoch 65/100\n",
      "36/36 [==============================] - 0s 9ms/step - loss: 0.7229 - accuracy: 0.9340 - categorical_accuracy: 0.9340 - val_loss: 1.2112 - val_accuracy: 0.6632 - val_categorical_accuracy: 0.6632\n",
      "Epoch 66/100\n",
      "36/36 [==============================] - 0s 9ms/step - loss: 0.6895 - accuracy: 0.9531 - categorical_accuracy: 0.9531 - val_loss: 1.1956 - val_accuracy: 0.7049 - val_categorical_accuracy: 0.7049\n",
      "Epoch 67/100\n",
      "36/36 [==============================] - 0s 9ms/step - loss: 0.6965 - accuracy: 0.9514 - categorical_accuracy: 0.9514 - val_loss: 1.1993 - val_accuracy: 0.7118 - val_categorical_accuracy: 0.7118\n",
      "Epoch 68/100\n",
      "36/36 [==============================] - 0s 9ms/step - loss: 0.6998 - accuracy: 0.9479 - categorical_accuracy: 0.9479 - val_loss: 1.1927 - val_accuracy: 0.7118 - val_categorical_accuracy: 0.7118\n",
      "Epoch 69/100\n",
      "36/36 [==============================] - 0s 9ms/step - loss: 0.6793 - accuracy: 0.9540 - categorical_accuracy: 0.9540 - val_loss: 1.1620 - val_accuracy: 0.7014 - val_categorical_accuracy: 0.7014\n",
      "Epoch 70/100\n",
      "36/36 [==============================] - 0s 9ms/step - loss: 0.6882 - accuracy: 0.9601 - categorical_accuracy: 0.9601 - val_loss: 1.1965 - val_accuracy: 0.7014 - val_categorical_accuracy: 0.7014\n",
      "Epoch 71/100\n",
      "36/36 [==============================] - 0s 9ms/step - loss: 0.6909 - accuracy: 0.9575 - categorical_accuracy: 0.9575 - val_loss: 1.2262 - val_accuracy: 0.6667 - val_categorical_accuracy: 0.6667\n",
      "Epoch 72/100\n",
      "36/36 [==============================] - 0s 9ms/step - loss: 0.6758 - accuracy: 0.9618 - categorical_accuracy: 0.9618 - val_loss: 1.1708 - val_accuracy: 0.6944 - val_categorical_accuracy: 0.6944\n",
      "Epoch 73/100\n",
      "36/36 [==============================] - 0s 9ms/step - loss: 0.6798 - accuracy: 0.9557 - categorical_accuracy: 0.9557 - val_loss: 1.1796 - val_accuracy: 0.7049 - val_categorical_accuracy: 0.7049\n",
      "Epoch 74/100\n",
      "36/36 [==============================] - 0s 9ms/step - loss: 0.6853 - accuracy: 0.9557 - categorical_accuracy: 0.9557 - val_loss: 1.2354 - val_accuracy: 0.6562 - val_categorical_accuracy: 0.6562\n",
      "Epoch 75/100\n",
      "36/36 [==============================] - 0s 9ms/step - loss: 0.6782 - accuracy: 0.9609 - categorical_accuracy: 0.9609 - val_loss: 1.1955 - val_accuracy: 0.6736 - val_categorical_accuracy: 0.6736\n",
      "Epoch 76/100\n",
      "36/36 [==============================] - 0s 9ms/step - loss: 0.6678 - accuracy: 0.9635 - categorical_accuracy: 0.9635 - val_loss: 1.2592 - val_accuracy: 0.6701 - val_categorical_accuracy: 0.6701\n",
      "Epoch 77/100\n",
      "36/36 [==============================] - 0s 9ms/step - loss: 0.6694 - accuracy: 0.9592 - categorical_accuracy: 0.9592 - val_loss: 1.1633 - val_accuracy: 0.7153 - val_categorical_accuracy: 0.7153\n",
      "Epoch 78/100\n",
      "36/36 [==============================] - 0s 9ms/step - loss: 0.6606 - accuracy: 0.9661 - categorical_accuracy: 0.9661 - val_loss: 1.2272 - val_accuracy: 0.7049 - val_categorical_accuracy: 0.7049\n",
      "Epoch 79/100\n",
      "36/36 [==============================] - 0s 9ms/step - loss: 0.6590 - accuracy: 0.9661 - categorical_accuracy: 0.9661 - val_loss: 1.1668 - val_accuracy: 0.6944 - val_categorical_accuracy: 0.6944\n",
      "Epoch 80/100\n",
      "36/36 [==============================] - 0s 9ms/step - loss: 0.6509 - accuracy: 0.9731 - categorical_accuracy: 0.9731 - val_loss: 1.2003 - val_accuracy: 0.6910 - val_categorical_accuracy: 0.6910\n",
      "Epoch 81/100\n",
      "36/36 [==============================] - 0s 9ms/step - loss: 0.6708 - accuracy: 0.9566 - categorical_accuracy: 0.9566 - val_loss: 1.1612 - val_accuracy: 0.6979 - val_categorical_accuracy: 0.6979\n",
      "Epoch 82/100\n",
      "36/36 [==============================] - 0s 9ms/step - loss: 0.6550 - accuracy: 0.9653 - categorical_accuracy: 0.9653 - val_loss: 1.1784 - val_accuracy: 0.6806 - val_categorical_accuracy: 0.6806\n",
      "Epoch 83/100\n",
      "36/36 [==============================] - 0s 9ms/step - loss: 0.6617 - accuracy: 0.9688 - categorical_accuracy: 0.9688 - val_loss: 1.1847 - val_accuracy: 0.6771 - val_categorical_accuracy: 0.6771\n",
      "Epoch 84/100\n",
      "36/36 [==============================] - 0s 9ms/step - loss: 0.6588 - accuracy: 0.9653 - categorical_accuracy: 0.9653 - val_loss: 1.2293 - val_accuracy: 0.6875 - val_categorical_accuracy: 0.6875\n",
      "Epoch 85/100\n",
      "36/36 [==============================] - 0s 9ms/step - loss: 0.6511 - accuracy: 0.9722 - categorical_accuracy: 0.9722 - val_loss: 1.1714 - val_accuracy: 0.7257 - val_categorical_accuracy: 0.7257\n",
      "Epoch 86/100\n",
      "36/36 [==============================] - 0s 9ms/step - loss: 0.6446 - accuracy: 0.9757 - categorical_accuracy: 0.9757 - val_loss: 1.2261 - val_accuracy: 0.6840 - val_categorical_accuracy: 0.6840\n",
      "Epoch 87/100\n",
      "36/36 [==============================] - 0s 9ms/step - loss: 0.6497 - accuracy: 0.9740 - categorical_accuracy: 0.9740 - val_loss: 1.2161 - val_accuracy: 0.6979 - val_categorical_accuracy: 0.6979\n",
      "Epoch 88/100\n",
      "36/36 [==============================] - 0s 9ms/step - loss: 0.6520 - accuracy: 0.9688 - categorical_accuracy: 0.9688 - val_loss: 1.1808 - val_accuracy: 0.7188 - val_categorical_accuracy: 0.7188\n",
      "Epoch 89/100\n",
      "36/36 [==============================] - 0s 9ms/step - loss: 0.6493 - accuracy: 0.9661 - categorical_accuracy: 0.9661 - val_loss: 1.1486 - val_accuracy: 0.7188 - val_categorical_accuracy: 0.7188\n",
      "Epoch 90/100\n",
      "36/36 [==============================] - 0s 9ms/step - loss: 0.6447 - accuracy: 0.9688 - categorical_accuracy: 0.9688 - val_loss: 1.1385 - val_accuracy: 0.7326 - val_categorical_accuracy: 0.7326\n",
      "Epoch 91/100\n",
      "36/36 [==============================] - 0s 9ms/step - loss: 0.6442 - accuracy: 0.9774 - categorical_accuracy: 0.9774 - val_loss: 1.1616 - val_accuracy: 0.7153 - val_categorical_accuracy: 0.7153\n",
      "Epoch 92/100\n",
      "36/36 [==============================] - 0s 9ms/step - loss: 0.6386 - accuracy: 0.9740 - categorical_accuracy: 0.9740 - val_loss: 1.2034 - val_accuracy: 0.6840 - val_categorical_accuracy: 0.6840\n",
      "Epoch 93/100\n",
      "36/36 [==============================] - 0s 9ms/step - loss: 0.6420 - accuracy: 0.9705 - categorical_accuracy: 0.9705 - val_loss: 1.1668 - val_accuracy: 0.7049 - val_categorical_accuracy: 0.7049\n",
      "Epoch 94/100\n",
      "36/36 [==============================] - 0s 9ms/step - loss: 0.6303 - accuracy: 0.9809 - categorical_accuracy: 0.9809 - val_loss: 1.1544 - val_accuracy: 0.6944 - val_categorical_accuracy: 0.6944\n",
      "Epoch 95/100\n",
      "36/36 [==============================] - 0s 9ms/step - loss: 0.6338 - accuracy: 0.9757 - categorical_accuracy: 0.9757 - val_loss: 1.1680 - val_accuracy: 0.7049 - val_categorical_accuracy: 0.7049\n",
      "Epoch 96/100\n",
      "36/36 [==============================] - 0s 9ms/step - loss: 0.6342 - accuracy: 0.9722 - categorical_accuracy: 0.9722 - val_loss: 1.2022 - val_accuracy: 0.6944 - val_categorical_accuracy: 0.6944\n",
      "Epoch 97/100\n",
      "36/36 [==============================] - 0s 9ms/step - loss: 0.6322 - accuracy: 0.9792 - categorical_accuracy: 0.9792 - val_loss: 1.1909 - val_accuracy: 0.6875 - val_categorical_accuracy: 0.6875\n",
      "Epoch 98/100\n",
      "36/36 [==============================] - 0s 9ms/step - loss: 0.6321 - accuracy: 0.9740 - categorical_accuracy: 0.9740 - val_loss: 1.2528 - val_accuracy: 0.6667 - val_categorical_accuracy: 0.6667\n",
      "Epoch 99/100\n",
      "36/36 [==============================] - 0s 9ms/step - loss: 0.6327 - accuracy: 0.9740 - categorical_accuracy: 0.9740 - val_loss: 1.2338 - val_accuracy: 0.6875 - val_categorical_accuracy: 0.6875\n",
      "Epoch 100/100\n",
      "36/36 [==============================] - 0s 9ms/step - loss: 0.6253 - accuracy: 0.9800 - categorical_accuracy: 0.9800 - val_loss: 1.1921 - val_accuracy: 0.6979 - val_categorical_accuracy: 0.6979\n"
     ]
    }
   ],
   "execution_count": 433
  },
  {
   "metadata": {},
   "cell_type": "markdown",
   "source": [
    "<h3>Оценка точности на тестовой выборке</h3>\n",
    "<p>Вычисляем метрику accuracy и categorical accuracy на тестовой выборке.</p>\n",
    "<hr>"
   ],
   "id": "953643f462c2851e"
  },
  {
   "metadata": {
    "ExecuteTime": {
     "end_time": "2025-07-15T17:36:14.283149Z",
     "start_time": "2025-07-15T17:36:14.220135Z"
    }
   },
   "cell_type": "code",
   "source": [
    "test_loss, test_acc, cat_acc = model.evaluate(X_test, y_test_cat, verbose=0)\n",
    "print(f\"Test accuracy: {test_acc:.4f}\")\n",
    "print(f\"Categorical test accuracy: {cat_acc:.4f}\")"
   ],
   "id": "8d6aa31ba048660a",
   "outputs": [
    {
     "name": "stdout",
     "output_type": "stream",
     "text": [
      "Test accuracy: 0.6979\n",
      "Categorical test accuracy: 0.6979\n"
     ]
    }
   ],
   "execution_count": 434
  },
  {
   "metadata": {},
   "cell_type": "markdown",
   "source": [
    "<h3>Визуализация истории обучения</h3>\n",
    "<p>Строим графики изменения точности на обучающей и валидационной выборках по эпохам.</p>\n",
    "<hr>"
   ],
   "id": "40eddf07c3696c7"
  },
  {
   "metadata": {
    "ExecuteTime": {
     "end_time": "2025-07-15T17:36:14.426186Z",
     "start_time": "2025-07-15T17:36:14.354169Z"
    }
   },
   "cell_type": "code",
   "source": [
    "plt.plot(history.history['accuracy'], label='train acc')\n",
    "plt.plot(history.history['val_accuracy'], label='val acc')\n",
    "plt.xlabel('Epoch')\n",
    "plt.ylabel('Accuracy')\n",
    "plt.legend()\n",
    "plt.show()"
   ],
   "id": "89dde6d2f32e067e",
   "outputs": [
    {
     "data": {
      "text/plain": [
       "<Figure size 640x480 with 1 Axes>"
      ],
      "image/png": "[encoded data removed]"
     },
     "metadata": {},
     "output_type": "display_data"
    }
   ],
   "execution_count": 435
  },
  {
   "metadata": {},
   "cell_type": "markdown",
   "source": [
    "<h3>Анализ баланса классов</h3>\n",
    "<p>Выводим количество примеров для каждого класса — важно для оценки сбалансированности данных.</p>\n",
    "<hr>"
   ],
   "id": "ab50313a5a7b9387"
  },
  {
   "metadata": {
    "ExecuteTime": {
     "end_time": "2025-07-15T17:36:14.458193Z",
     "start_time": "2025-07-15T17:36:14.443190Z"
    }
   },
   "cell_type": "code",
   "source": "print(df['emotion'].value_counts())",
   "id": "243c86a9526127b8",
   "outputs": [
    {
     "name": "stdout",
     "output_type": "stream",
     "text": [
      "emotion\n",
      "calm         192\n",
      "happy        192\n",
      "sad          192\n",
      "angry        192\n",
      "fearful      192\n",
      "disgust      192\n",
      "surprised    192\n",
      "neutral       96\n",
      "Name: count, dtype: int64\n"
     ]
    }
   ],
   "execution_count": 436
  },
  {
   "metadata": {},
   "cell_type": "markdown",
   "source": [
    "<h3>Построение матрицы ошибок (Confusion Matrix)</h3>\n",
    "<p>Визуализируем, как модель путает разные классы эмоций на тестовой выборке.</p>\n",
    "<hr>"
   ],
   "id": "6a5e35e1500baae1"
  },
  {
   "metadata": {
    "ExecuteTime": {
     "end_time": "2025-07-15T17:36:14.729489Z",
     "start_time": "2025-07-15T17:36:14.475197Z"
    }
   },
   "cell_type": "code",
   "source": [
    "y_pred = np.argmax(model.predict(X_test), axis=1)\n",
    "cm = confusion_matrix(np.argmax(y_test_cat, axis=1), y_pred)\n",
    "disp = ConfusionMatrixDisplay(confusion_matrix=cm, display_labels=sorted(df['emotion'].unique()))\n",
    "disp.plot(xticks_rotation=45, cmap='Blues')\n",
    "plt.title(\"Confusion Matrix\")\n",
    "plt.show()"
   ],
   "id": "5072c934702ddfc6",
   "outputs": [
    {
     "name": "stdout",
     "output_type": "stream",
     "text": [
      "9/9 [==============================] - 0s 2ms/step\n"
     ]
    },
    {
     "data": {
      "text/plain": [
       "<Figure size 640x480 with 2 Axes>"
      ],
      "image/png": "[encoded data removed]"
     },
     "metadata": {},
     "output_type": "display_data"
    }
   ],
   "execution_count": 437
  }
 ],
 "metadata": {
  "kernelspec": {
   "display_name": "Python 3",
   "language": "python",
   "name": "python3"
  },
  "language_info": {
   "codemirror_mode": {
    "name": "ipython",
    "version": 2
   },
   "file_extension": ".py",
   "mimetype": "text/x-python",
   "name": "python",
   "nbconvert_exporter": "python",
   "pygments_lexer": "ipython2",
   "version": "2.7.6"
  }
 },
 "nbformat": 4,
 "nbformat_minor": 5
}
